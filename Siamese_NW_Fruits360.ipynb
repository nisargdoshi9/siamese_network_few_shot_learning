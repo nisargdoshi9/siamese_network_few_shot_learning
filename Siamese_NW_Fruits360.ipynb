{
  "nbformat": 4,
  "nbformat_minor": 0,
  "metadata": {
    "colab": {
      "provenance": [],
      "authorship_tag": "ABX9TyPL+47hBWgey+LtmNaBR6A2",
      "include_colab_link": true
    },
    "kernelspec": {
      "name": "python3",
      "display_name": "Python 3"
    },
    "language_info": {
      "name": "python"
    }
  },
  "cells": [
    {
      "cell_type": "markdown",
      "metadata": {
        "id": "view-in-github",
        "colab_type": "text"
      },
      "source": [
        "<a href=\"https://colab.research.google.com/github/nisargdoshi9/siamese_network_few_shot_learning/blob/main/Siamese_NW_Fruits360.ipynb\" target=\"_parent\"><img src=\"https://colab.research.google.com/assets/colab-badge.svg\" alt=\"Open In Colab\"/></a>"
      ]
    },
    {
      "cell_type": "code",
      "execution_count": 2,
      "metadata": {
        "colab": {
          "base_uri": "https://localhost:8080/"
        },
        "id": "cVHX4PUpq09A",
        "outputId": "6acea1df-3912-4022-c4ae-bb67d86644cf"
      },
      "outputs": [
        {
          "output_type": "stream",
          "name": "stdout",
          "text": [
            "Mounted at /content/drive\n"
          ]
        }
      ],
      "source": [
        "from google.colab import drive\n",
        "drive.mount('/content/drive')"
      ]
    },
    {
      "cell_type": "code",
      "source": [
        "!pip install opendatasets"
      ],
      "metadata": {
        "colab": {
          "base_uri": "https://localhost:8080/"
        },
        "id": "bQJT1E5Aq-Sq",
        "outputId": "54c0ad12-d650-464f-ad4c-1da0ec506958"
      },
      "execution_count": 3,
      "outputs": [
        {
          "output_type": "stream",
          "name": "stdout",
          "text": [
            "Looking in indexes: https://pypi.org/simple, https://us-python.pkg.dev/colab-wheels/public/simple/\n",
            "Collecting opendatasets\n",
            "  Downloading opendatasets-0.1.22-py3-none-any.whl (15 kB)\n",
            "Requirement already satisfied: tqdm in /usr/local/lib/python3.8/dist-packages (from opendatasets) (4.64.1)\n",
            "Requirement already satisfied: click in /usr/local/lib/python3.8/dist-packages (from opendatasets) (7.1.2)\n",
            "Requirement already satisfied: kaggle in /usr/local/lib/python3.8/dist-packages (from opendatasets) (1.5.12)\n",
            "Requirement already satisfied: requests in /usr/local/lib/python3.8/dist-packages (from kaggle->opendatasets) (2.23.0)\n",
            "Requirement already satisfied: urllib3 in /usr/local/lib/python3.8/dist-packages (from kaggle->opendatasets) (1.24.3)\n",
            "Requirement already satisfied: certifi in /usr/local/lib/python3.8/dist-packages (from kaggle->opendatasets) (2022.12.7)\n",
            "Requirement already satisfied: six>=1.10 in /usr/local/lib/python3.8/dist-packages (from kaggle->opendatasets) (1.15.0)\n",
            "Requirement already satisfied: python-dateutil in /usr/local/lib/python3.8/dist-packages (from kaggle->opendatasets) (2.8.2)\n",
            "Requirement already satisfied: python-slugify in /usr/local/lib/python3.8/dist-packages (from kaggle->opendatasets) (7.0.0)\n",
            "Requirement already satisfied: text-unidecode>=1.3 in /usr/local/lib/python3.8/dist-packages (from python-slugify->kaggle->opendatasets) (1.3)\n",
            "Requirement already satisfied: chardet<4,>=3.0.2 in /usr/local/lib/python3.8/dist-packages (from requests->kaggle->opendatasets) (3.0.4)\n",
            "Requirement already satisfied: idna<3,>=2.5 in /usr/local/lib/python3.8/dist-packages (from requests->kaggle->opendatasets) (2.10)\n",
            "Installing collected packages: opendatasets\n",
            "Successfully installed opendatasets-0.1.22\n"
          ]
        }
      ]
    },
    {
      "cell_type": "code",
      "source": [
        "!pip install pandas"
      ],
      "metadata": {
        "colab": {
          "base_uri": "https://localhost:8080/"
        },
        "id": "s8QhGayzramN",
        "outputId": "16a68535-5198-42f3-e5dc-f476e6e97fcc"
      },
      "execution_count": 4,
      "outputs": [
        {
          "output_type": "stream",
          "name": "stdout",
          "text": [
            "Looking in indexes: https://pypi.org/simple, https://us-python.pkg.dev/colab-wheels/public/simple/\n",
            "Requirement already satisfied: pandas in /usr/local/lib/python3.8/dist-packages (1.3.5)\n",
            "Requirement already satisfied: pytz>=2017.3 in /usr/local/lib/python3.8/dist-packages (from pandas) (2022.6)\n",
            "Requirement already satisfied: numpy>=1.17.3 in /usr/local/lib/python3.8/dist-packages (from pandas) (1.21.6)\n",
            "Requirement already satisfied: python-dateutil>=2.7.3 in /usr/local/lib/python3.8/dist-packages (from pandas) (2.8.2)\n",
            "Requirement already satisfied: six>=1.5 in /usr/local/lib/python3.8/dist-packages (from python-dateutil>=2.7.3->pandas) (1.15.0)\n"
          ]
        }
      ]
    },
    {
      "cell_type": "code",
      "source": [
        "\n",
        "#Configuration environment\n",
        "import os\n",
        "\n",
        "os.environ['KAGGLE_USERNAME'] = \"nisargx9\" # username from the json file\n",
        "os.environ['KAGGLE_KEY'] = \"1e6b4d19094e4587b87ea9e3327aecf9\" # key from the json file"
      ],
      "metadata": {
        "id": "gT96-pgordNh"
      },
      "execution_count": 15,
      "outputs": []
    },
    {
      "cell_type": "code",
      "source": [
        "cd '/content/drive/MyDrive/Projects/Fruit360'"
      ],
      "metadata": {
        "colab": {
          "base_uri": "https://localhost:8080/"
        },
        "id": "mje3v0KfwhGL",
        "outputId": "34551d75-53f6-459d-d4d8-f5406a77e17d"
      },
      "execution_count": 18,
      "outputs": [
        {
          "output_type": "stream",
          "name": "stdout",
          "text": [
            "/content/drive/MyDrive/Projects/Fruit360\n"
          ]
        }
      ]
    },
    {
      "cell_type": "code",
      "source": [
        "!kaggle datasets download -d moltean/fruits"
      ],
      "metadata": {
        "colab": {
          "base_uri": "https://localhost:8080/"
        },
        "id": "dNJN2TnzvZrc",
        "outputId": "4d605239-39cf-4f6e-d92b-795563a875aa"
      },
      "execution_count": 19,
      "outputs": [
        {
          "output_type": "stream",
          "name": "stdout",
          "text": [
            "Downloading fruits.zip to /content/drive/MyDrive/Projects/Fruit360\n",
            " 99% 1.28G/1.28G [00:14<00:00, 141MB/s]\n",
            "100% 1.28G/1.28G [00:14<00:00, 95.4MB/s]\n"
          ]
        }
      ]
    },
    {
      "cell_type": "code",
      "source": [
        "# !unzip \"/content/drive/MyDrive/Projects/Fruit360/fruits.zip\" -d \"/content/drive/MyDrive/Projects/Fruit360/fruits\""
      ],
      "metadata": {
        "id": "RGR79Uoqw_Dy"
      },
      "execution_count": null,
      "outputs": []
    },
    {
      "cell_type": "code",
      "source": [
        "import numpy as np\n",
        "import matplotlib.pyplot as plt\n",
        "import os\n",
        "from PIL import Image\n",
        "import cv2\n",
        "\n",
        "import tensorflow as tf\n",
        "import keras\n"
      ],
      "metadata": {
        "id": "AFDA5DAwxRfL"
      },
      "execution_count": 28,
      "outputs": []
    },
    {
      "cell_type": "code",
      "source": [
        "dir = \"/content/drive/MyDrive/Projects/Fruit360/fruits/fruits-360_dataset/fruits-360/Training\"\n",
        "split = 0.7\n",
        "num_files_each_class = 10\n",
        "\n",
        "folder_list = os.listdir(dir)\n",
        "print(len(folder_list),\": number of categories\")"
      ],
      "metadata": {
        "colab": {
          "base_uri": "https://localhost:8080/"
        },
        "id": "CBWfvZY63Hc9",
        "outputId": "9c760fa3-cbcb-4306-896e-413b24a47258"
      },
      "execution_count": 29,
      "outputs": [
        {
          "output_type": "stream",
          "name": "stdout",
          "text": [
            "131 : number of categories\n"
          ]
        }
      ]
    },
    {
      "cell_type": "markdown",
      "source": [
        "## Loading dataset into numpy arrays"
      ],
      "metadata": {
        "id": "W4oGcLFJ8rtE"
      }
    },
    {
      "cell_type": "code",
      "source": [
        "x = []\n",
        "y = []\n",
        "cat_list = []\n",
        "y_label = 0\n",
        "for folder_name in folder_list:\n",
        "  file_list = os.listdir(dir+'/'+folder_name)\n",
        "  temp = []\n",
        "  for file_name in file_list[:num_files_each_class]:\n",
        "    temp.append(len(x))\n",
        "    im = cv2.imread(dir+'/'+folder_name+'/'+file_name)\n",
        "    im = cv2.resize(im,(100,100))\n",
        "    x.append(im)\n",
        "    y.append(y_label)\n",
        "  y_label+=1\n",
        "  cat_list.append(temp)\n",
        "\n",
        "cat_list = np.asarray(cat_list)\n",
        "x = np.asarray(x)/255\n",
        "y = np.asarray(y)\n",
        "print('X,y, cat_list shape: ',x.shape,y.shape,cat_list.shape)"
      ],
      "metadata": {
        "colab": {
          "base_uri": "https://localhost:8080/"
        },
        "id": "nhICxRE33V8o",
        "outputId": "14811acf-9576-4d5e-a0bb-7395a400b401"
      },
      "execution_count": 34,
      "outputs": [
        {
          "output_type": "stream",
          "name": "stdout",
          "text": [
            "X,y, cat_list shape:  (1310, 100, 100, 3) (1310,) (131, 10)\n"
          ]
        }
      ]
    },
    {
      "cell_type": "markdown",
      "source": [
        "# Train test split: Unlike usual training, only training on 70% classes/categories and keep the rest for test"
      ],
      "metadata": {
        "id": "otnZjvWb8wPB"
      }
    },
    {
      "cell_type": "code",
      "source": [
        "num_classes = int(len(folder_list)*split)\n",
        "print('Number of folders to train (approx): ',int(num_classes))\n",
        "num_files = int(x.shape[0]*split)\n",
        "print('Number of files to train: ',int(num_files))\n",
        "\n",
        "#Split\n",
        "x_train = x[:num_files]\n",
        "y_train = y[:num_files]\n",
        "cat_train = cat_list[:num_classes]\n",
        "\n",
        "x_val = x[num_files:]\n",
        "y_val = y[num_files:]\n",
        "cat_test = cat_list[num_classes:]\n",
        "\n",
        "print(\"Shape of x_train, y_train, cat_train: \",x_train.shape,y_train.shape,cat_train.shape)\n",
        "print(\"Shape of x_val, y_val, cat_test: \",x_val.shape,y_val.shape,cat_test.shape)"
      ],
      "metadata": {
        "colab": {
          "base_uri": "https://localhost:8080/"
        },
        "id": "G0TjQG_J71Xb",
        "outputId": "633dc28c-fdcb-4867-9a4a-29a0101f614e"
      },
      "execution_count": 51,
      "outputs": [
        {
          "output_type": "stream",
          "name": "stdout",
          "text": [
            "Number of folders to train (approx):  91\n",
            "Number of files to train:  916\n",
            "Shape of x_train, y_train, cat_train:  (916, 100, 100, 3) (916,) (91, 10)\n",
            "Shape of x_val, y_val, cat_test:  (394, 100, 100, 3) (394,) (40, 10)\n"
          ]
        }
      ]
    },
    {
      "cell_type": "markdown",
      "source": [
        "## Batch generation function"
      ],
      "metadata": {
        "id": "cE6Yw_OpS4g9"
      }
    },
    {
      "cell_type": "code",
      "source": [
        "def get_batch(batch_size=64):\n",
        "  temp_x = x_train\n",
        "  temp_cat_list = cat_train\n",
        "  start = 0\n",
        "  end = num_classes\n",
        "  batch_x = []\n",
        "\n",
        "  batch_y = np.zeros(batch_size)\n",
        "  # Setting other half to 0\n",
        "  batch_y[int(batch_size/2):]=1\n",
        "  np.random.shuffle(batch_y)\n",
        "\n",
        "  class_list = np.random.randint(start,end,batch_size)\n",
        "  batch_x.append(np.zeros((batch_size,100,100,3)))\n",
        "  batch_x.append(np.zeros((batch_size,100,100,3)))\n",
        "\n",
        "  for i in range(batch_size):\n",
        "    batch_x[0][i]=temp_x[np.random.choice(temp_cat_list[class_list[i]])]\n",
        "    # if y_train=0 pick same class, else if y_train=1 pick any other class\n",
        "    if batch_y[i]==0:\n",
        "      batch_x[0][i] = temp_x[np.random.choice(temp_cat_list[class_list[i]])]\n",
        "    else:\n",
        "      temp_list = np.append(temp_cat_list[:cat_list[i]].flatten(),\n",
        "                            temp_cat_list[class_list[i]+1:].flatten())\n",
        "      batch_x[1][i] = temp_x[np.random.choice(temp_list)]\n",
        "  return (batch_x, batch_y)"
      ],
      "metadata": {
        "id": "-T9o5aHc-PHX"
      },
      "execution_count": 57,
      "outputs": []
    },
    {
      "cell_type": "markdown",
      "source": [
        "## Sequential Model"
      ],
      "metadata": {
        "id": "EJQGV7jLTRs_"
      }
    },
    {
      "cell_type": "code",
      "source": [
        "from keras.layers import Input, Conv2D, Lambda, merge, Dense, Flatten, MaxPooling2D\n",
        "from keras.models import Model,Sequential\n",
        "from keras.losses import binary_crossentropy\n",
        "from keras.regularizers import l2\n",
        "from keras import backend as K\n",
        "from keras.optimizers import SGD, Adam\n",
        "\n",
        "W_init = keras.initializers.RandomNormal(mean=0.0, stddev = 1e-2)\n",
        "b_init = keras.initializers.RandomNormal(mean=0.0, stddev = 1e-2)\n",
        "\n",
        "input_shape = (100,100,3)\n",
        "left_input = Input(input_shape)\n",
        "right_input = Input(input_shape)\n",
        "\n",
        "model = keras.model.Sequential([\n",
        "  keras.layers.Conv2D(64, (10,10), activation='relu', input_shape=input_shape, kernel_initializer=W_init, bias_initializer=b_init, kernel_regularizer=l2(2e-4)),\n",
        "  keras.layers.MaxPooling2D(2, 2),\n",
        "  keras.layers.Conv2D(128, (7,7), activation='relu', kernel_initializer=W_init, bias_initializer=b_init, kernel_regularizer=l2(2e-4)),\n",
        "  keras.layers.MaxPooling2D(2,2),\n",
        "  keras.layers.Conv2D(128, (4,4), activation='relu', kernel_initializer=W_init, bias_initializer=b_init, kernel_regularizer=l2(2e-4)),\n",
        "  keras.layers.MaxPooling2D(2,2),\n",
        "  keras.layers.Conv2D(256, (4,4), activation='relu', kernel_initializer=W_init, bias_initializer=b_init, kernel_regularizer=l2(2e-4)),\n",
        "  keras.layers.MaxPooling2D(2,2),\n",
        "  keras.layers.Flatten(),\n",
        "  keras.layers.Dense(4096, activation='sigmoid', kernel_initializer=W_init, bias_initializer=b_init)\n",
        "])\n",
        "\n",
        "encoded_l = model(left_input)\n",
        "encoded_r = model(right_input)"
      ],
      "metadata": {
        "colab": {
          "base_uri": "https://localhost:8080/"
        },
        "id": "IHQmKOpuE_h9",
        "outputId": "7c98ff8a-00fd-4a52-8dbc-d1224cde7c08"
      },
      "execution_count": 56,
      "outputs": [
        {
          "output_type": "execute_result",
          "data": {
            "text/plain": [
              "(2, 64, 100, 100, 3)"
            ]
          },
          "metadata": {},
          "execution_count": 56
        }
      ]
    },
    {
      "cell_type": "code",
      "source": [],
      "metadata": {
        "id": "aIUC2kcZFBEH"
      },
      "execution_count": null,
      "outputs": []
    }
  ]
}